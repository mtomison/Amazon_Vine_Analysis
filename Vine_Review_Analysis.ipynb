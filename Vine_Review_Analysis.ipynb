{
  "nbformat": 4,
  "nbformat_minor": 0,
  "metadata": {
    "colab": {
      "name": "Vine_Review_Analysis.ipynb",
      "provenance": [],
      "authorship_tag": "ABX9TyPtZ+VYCyBgKhN1FXvVAW/Q",
      "include_colab_link": true
    },
    "kernelspec": {
      "name": "python3",
      "display_name": "Python 3"
    },
    "language_info": {
      "name": "python"
    }
  },
  "cells": [
    {
      "cell_type": "markdown",
      "metadata": {
        "id": "view-in-github",
        "colab_type": "text"
      },
      "source": [
        "<a href=\"https://colab.research.google.com/github/mtomison/Amazon_Vine_Analysis/blob/main/Vine_Review_Analysis.ipynb\" target=\"_parent\"><img src=\"https://colab.research.google.com/assets/colab-badge.svg\" alt=\"Open In Colab\"/></a>"
      ]
    },
    {
      "cell_type": "code",
      "execution_count": 1,
      "metadata": {
        "colab": {
          "base_uri": "https://localhost:8080/"
        },
        "id": "f_tBiEPpDu9b",
        "outputId": "bc776c63-d343-41bd-e558-7f0a71dc3680"
      },
      "outputs": [
        {
          "output_type": "stream",
          "name": "stdout",
          "text": [
            "\r0% [Working]\r            \rGet:1 https://cloud.r-project.org/bin/linux/ubuntu bionic-cran40/ InRelease [3,626 B]\n",
            "\r0% [Connecting to archive.ubuntu.com (91.189.88.142)] [Connecting to security.u\r0% [Connecting to archive.ubuntu.com (91.189.88.142)] [Connecting to security.u\r0% [1 InRelease gpgv 3,626 B] [Connecting to archive.ubuntu.com (91.189.88.142)\r                                                                               \rIgn:2 https://developer.download.nvidia.com/compute/cuda/repos/ubuntu1804/x86_64  InRelease\n",
            "\r0% [1 InRelease gpgv 3,626 B] [Waiting for headers] [Waiting for headers] [Wait\r                                                                               \rGet:3 http://security.ubuntu.com/ubuntu bionic-security InRelease [88.7 kB]\n",
            "Get:4 http://ppa.launchpad.net/c2d4u.team/c2d4u4.0+/ubuntu bionic InRelease [15.9 kB]\n",
            "Hit:5 http://archive.ubuntu.com/ubuntu bionic InRelease\n",
            "Ign:6 https://developer.download.nvidia.com/compute/machine-learning/repos/ubuntu1804/x86_64  InRelease\n",
            "Hit:7 https://developer.download.nvidia.com/compute/cuda/repos/ubuntu1804/x86_64  Release\n",
            "Hit:8 https://developer.download.nvidia.com/compute/machine-learning/repos/ubuntu1804/x86_64  Release\n",
            "Get:9 http://archive.ubuntu.com/ubuntu bionic-updates InRelease [88.7 kB]\n",
            "Hit:10 http://ppa.launchpad.net/cran/libgit2/ubuntu bionic InRelease\n",
            "Get:11 http://ppa.launchpad.net/deadsnakes/ppa/ubuntu bionic InRelease [15.9 kB]\n",
            "Get:12 http://archive.ubuntu.com/ubuntu bionic-backports InRelease [74.6 kB]\n",
            "Hit:13 http://ppa.launchpad.net/graphics-drivers/ppa/ubuntu bionic InRelease\n",
            "Get:15 http://ppa.launchpad.net/c2d4u.team/c2d4u4.0+/ubuntu bionic/main Sources [1,819 kB]\n",
            "Get:17 http://security.ubuntu.com/ubuntu bionic-security/main amd64 Packages [2,461 kB]\n",
            "Get:18 http://ppa.launchpad.net/c2d4u.team/c2d4u4.0+/ubuntu bionic/main amd64 Packages [933 kB]\n",
            "Get:19 http://security.ubuntu.com/ubuntu bionic-security/universe amd64 Packages [1,450 kB]\n",
            "Get:20 http://security.ubuntu.com/ubuntu bionic-security/restricted amd64 Packages [691 kB]\n",
            "Get:21 http://archive.ubuntu.com/ubuntu bionic-updates/universe amd64 Packages [2,228 kB]\n",
            "Get:22 http://archive.ubuntu.com/ubuntu bionic-updates/main amd64 Packages [2,898 kB]\n",
            "Get:23 http://ppa.launchpad.net/deadsnakes/ppa/ubuntu bionic/main amd64 Packages [45.9 kB]\n",
            "Fetched 12.8 MB in 5s (2,745 kB/s)\n",
            "Reading package lists... Done\n"
          ]
        }
      ],
      "source": [
        "import os\n",
        "# Find the latest version of spark 3.0  from http://www.apache.org/dist/spark/ and enter as the spark version\n",
        "# For example:\n",
        "# spark_version = 'spark-3.0.3'\n",
        "spark_version = 'spark-3.0.3'\n",
        "os.environ['SPARK_VERSION']=spark_version\n",
        "\n",
        "# Install Spark and Java\n",
        "!apt-get update\n",
        "!apt-get install openjdk-11-jdk-headless -qq > /dev/null\n",
        "!wget -q http://www.apache.org/dist/spark/$SPARK_VERSION/$SPARK_VERSION-bin-hadoop2.7.tgz\n",
        "!tar xf $SPARK_VERSION-bin-hadoop2.7.tgz\n",
        "!pip install -q findspark\n",
        "\n",
        "# Set Environment Variables\n",
        "os.environ[\"JAVA_HOME\"] = \"/usr/lib/jvm/java-11-openjdk-amd64\"\n",
        "os.environ[\"SPARK_HOME\"] = f\"/content/{spark_version}-bin-hadoop2.7\"\n",
        "\n",
        "# Start a SparkSession\n",
        "import findspark\n",
        "findspark.init()"
      ]
    },
    {
      "cell_type": "code",
      "source": [
        "!wget https://jdbc.postgresql.org/download/postgresql-42.2.16.jar"
      ],
      "metadata": {
        "colab": {
          "base_uri": "https://localhost:8080/"
        },
        "id": "nbiCaE-SD4Yf",
        "outputId": "8f224e41-68a9-47d2-fe2d-613fd9d2fc70"
      },
      "execution_count": 28,
      "outputs": [
        {
          "output_type": "stream",
          "name": "stdout",
          "text": [
            "--2021-12-10 22:06:44--  https://jdbc.postgresql.org/download/postgresql-42.2.16.jar\n",
            "Resolving jdbc.postgresql.org (jdbc.postgresql.org)... 72.32.157.228, 2001:4800:3e1:1::228\n",
            "Connecting to jdbc.postgresql.org (jdbc.postgresql.org)|72.32.157.228|:443... connected.\n",
            "HTTP request sent, awaiting response... 200 OK\n",
            "Length: 1002883 (979K) [application/java-archive]\n",
            "Saving to: ‘postgresql-42.2.16.jar.1’\n",
            "\n",
            "postgresql-42.2.16. 100%[===================>] 979.38K  5.70MB/s    in 0.2s    \n",
            "\n",
            "2021-12-10 22:06:44 (5.70 MB/s) - ‘postgresql-42.2.16.jar.1’ saved [1002883/1002883]\n",
            "\n"
          ]
        }
      ]
    },
    {
      "cell_type": "code",
      "source": [
        "from pyspark.sql import SparkSession\n",
        "spark = SparkSession.builder.appName(\"CloudETL\").config(\"spark.driver.extraClassPath\",\"/content/postgresql-42.2.16.jar\").getOrCreate()"
      ],
      "metadata": {
        "id": "qOTC9-IyEBo9"
      },
      "execution_count": 29,
      "outputs": []
    },
    {
      "cell_type": "markdown",
      "source": [
        "### Load Amazon Data into Spark DataFram"
      ],
      "metadata": {
        "id": "jk_HuzcggDH2"
      }
    },
    {
      "cell_type": "code",
      "source": [
        "# Read in data from S3 Buckets\n",
        "from pyspark import SparkFiles\n",
        "url =\"https://s3.amazonaws.com/amazon-reviews-pds/tsv/amazon_reviews_us_Baby_v1_00.tsv.gz\"\n",
        "spark.sparkContext.addFile(url)\n"
      ],
      "metadata": {
        "id": "vBcfgmZPFvGX"
      },
      "execution_count": 30,
      "outputs": []
    },
    {
      "cell_type": "code",
      "source": [
        "df = spark.read.option('encoding','UTF-8').csv(SparkFiles.get(\"amazon_reviews_us_Baby_v1_00.tsv.gz\"), sep=\"\\t\", header=True, inferSchema=True)"
      ],
      "metadata": {
        "id": "M89OU0B0GIKB"
      },
      "execution_count": 31,
      "outputs": []
    },
    {
      "cell_type": "code",
      "source": [
        "df.show()"
      ],
      "metadata": {
        "colab": {
          "base_uri": "https://localhost:8080/"
        },
        "id": "DizamgDDF786",
        "outputId": "bb0d8da7-af8d-42ca-d29d-4e0951861df0"
      },
      "execution_count": 32,
      "outputs": [
        {
          "output_type": "stream",
          "name": "stdout",
          "text": [
            "+-----------+-----------+--------------+----------+--------------+--------------------+----------------+-----------+-------------+-----------+----+-----------------+--------------------+--------------------+-----------+\n",
            "|marketplace|customer_id|     review_id|product_id|product_parent|       product_title|product_category|star_rating|helpful_votes|total_votes|vine|verified_purchase|     review_headline|         review_body|review_date|\n",
            "+-----------+-----------+--------------+----------+--------------+--------------------+----------------+-----------+-------------+-----------+----+-----------------+--------------------+--------------------+-----------+\n",
            "|         US|    9970739| R8EWA1OFT84NX|B00GSP5D94|     329991347|Summer Infant Swa...|            Baby|          5|            0|          0|   N|                Y|Great swaddled bl...|Loved these swadd...| 2015-08-31|\n",
            "|         US|   23538442|R2JWY4YRQD4FOP|B00YYDDZGU|     646108902|Pacifier Clip Gir...|            Baby|          5|            0|          0|   N|                N|Too cute and real...|These are adorabl...| 2015-08-31|\n",
            "|         US|    8273344| RL5ESX231LZ0B|B00BUBNZC8|     642922361|Udder Covers - Br...|            Baby|          5|            0|          0|   N|                Y|          Five Stars|          Great gift| 2015-08-31|\n",
            "|         US|   24557753| RRMS9ZWJ2KD08|B00AWLZFTS|     494272733|Gerber Graduates ...|            Baby|          5|            0|          0|   N|                Y|Cute; wash up nic...|These forks are g...| 2015-08-31|\n",
            "|         US|   46263340|R14I3ZG5E6S7YM|B00KM60D3Q|     305813185|Summer Infant Ult...|            Baby|          5|            0|          0|   N|                Y|            Love it!|I wanted somethin...| 2015-08-31|\n",
            "|         US|   24557753|R13EPSFP5DODN5|B00PQMRZG4|     607341708|Summer Infant Kee...|            Baby|          4|            0|          0|   N|                Y|        Rips easily.|Loved with daught...| 2015-08-31|\n",
            "|         US|   33520065| R6RBP4HTE67SY|B005DL5970|     971881542|Natural HE Powder...|            Baby|          5|            0|          0|   N|                Y|Cloth Diaper Dete...|This is a great d...| 2015-08-31|\n",
            "|         US|   20241560|R15B3EU40RSU2W|B00C6D2WL4|      93827401|Dr. Brown's Bottl...|            Baby|          5|            0|          0|   N|                Y|          Five Stars|                good| 2015-08-31|\n",
            "|         US|    9987983| RP4DD53A4ZJA2|B0083973FK|     958629336|Sposie Booster Pa...|            Baby|          5|            0|          0|   N|                Y|          Five Stars|With these my mil...| 2015-08-31|\n",
            "|         US|   52570308|R2C99DJEO4RZ4K|B00RLYG2S2|     147324304|Abiie Beyond Wood...|            Baby|          5|            3|          4|   N|                Y|So far I love thi...|So far I love thi...| 2015-08-31|\n",
            "|         US|    9287389| REV51EW323H8W|B010UX9T5I|     446691106|Lovinglove Baby G...|            Baby|          5|            0|          0|   N|                Y|          Five Stars|           Love them| 2015-08-31|\n",
            "|         US|   32840762|R2GQ3W03WIUZKE|B00VWBY7SC|     271204734|Bugzi Stroller Ho...|            Baby|          5|            0|          0|   N|                Y|Love these hooks ...|Love these hooks ...| 2015-08-31|\n",
            "|         US|    7797182| RTI1YI7K6GE3D|B006ZBPH24|      67911244|Born Free 5 oz. B...|            Baby|          5|            0|          0|   N|                Y|          Five Stars|           very good| 2015-08-31|\n",
            "|         US|   14788115|R3V9C2C0SPSZU6|B00UGV8BEU|     613360092|Baby Bandana Bibs...|            Baby|          5|            0|          0|   N|                Y|            Perfect!|Love these bibs! ...| 2015-08-31|\n",
            "|         US|   37909065|R1LB42XCSSCLV6|B005BIOOYO|     527977399|Flip Stay-Dry Ins...|            Baby|          5|            0|          0|   N|                Y|best inserts for ...|I love these. The...| 2015-08-31|\n",
            "|         US|   15935520|R113NWCW6STTMC|B0071D1AKI|     634188771|Aqueduck The ORIG...|            Baby|          5|            0|          0|   N|                Y|        Very Helpful|This worked exact...| 2015-08-31|\n",
            "|         US|   16308044| RWRN5XK337N41|B00M2F0OYS|     166133791|Motorola Baby Mon...|            Baby|          1|            0|          0|   N|                N|Very Dissapointed...|I am so disappoin...| 2015-08-31|\n",
            "|         US|    8168178| RF4WL3QEP3PVI|B00QCBD5AS|     294351494|Minnie Mouse Delu...|            Baby|          1|            0|          0|   N|                Y|            One Star|Ordered minnie mo...| 2015-08-31|\n",
            "|         US|   23299101|R2DRL5NRODVQ3Z|B00SN6F9NG|       3470998|Rhoost Nail Clipp...|            Baby|          5|            2|          2|   N|                Y|If fits so comfor...|This is an absolu...| 2015-08-31|\n",
            "|         US|   14261025|R3T9B92MDDHKMM|B00J0YTS1E|     488640919|My Natural Owl Mu...|            Baby|          2|            5|          5|   N|                Y|Used to be great....|They changed the ...| 2015-08-31|\n",
            "+-----------+-----------+--------------+----------+--------------+--------------------+----------------+-----------+-------------+-----------+----+-----------------+--------------------+--------------------+-----------+\n",
            "only showing top 20 rows\n",
            "\n"
          ]
        }
      ]
    },
    {
      "cell_type": "code",
      "source": [
        "#filter the dataset for total_votes being greater than or equal to 20\n",
        "vine_df = df.select([\"review_id\",\"star_rating\",\"helpful_votes\",\"total_votes\",\"vine\",\"verified_purchase\"])\n",
        "vote_count = df.filter(\"total_votes >= 20\")\n",
        "vote_count.count()"
      ],
      "metadata": {
        "id": "TeQ-E-ulgAiq",
        "colab": {
          "base_uri": "https://localhost:8080/"
        },
        "outputId": "7f88de21-0a07-4aa2-839a-aa4c371e1328"
      },
      "execution_count": 33,
      "outputs": [
        {
          "output_type": "execute_result",
          "data": {
            "text/plain": [
              "27389"
            ]
          },
          "metadata": {},
          "execution_count": 33
        }
      ]
    },
    {
      "cell_type": "code",
      "source": [
        "#create a new DataFrame or table to retrieve all the rows where the number of helpful_votes divided by total_votes is equal to or greater than 50%.\n",
        "new_table = vote_count.filter(vote_count[\"helpful_votes\"]/vote_count[\"total_votes\"]>=0.5)\n",
        "new_table.show()\n"
      ],
      "metadata": {
        "colab": {
          "base_uri": "https://localhost:8080/"
        },
        "id": "7m3kKHCK4r8m",
        "outputId": "be56cfac-6d17-4a20-a335-17e043c7bc79"
      },
      "execution_count": 34,
      "outputs": [
        {
          "output_type": "stream",
          "name": "stdout",
          "text": [
            "+-----------+-----------+--------------+----------+--------------+--------------------+----------------+-----------+-------------+-----------+----+-----------------+--------------------+--------------------+-----------+\n",
            "|marketplace|customer_id|     review_id|product_id|product_parent|       product_title|product_category|star_rating|helpful_votes|total_votes|vine|verified_purchase|     review_headline|         review_body|review_date|\n",
            "+-----------+-----------+--------------+----------+--------------+--------------------+----------------+-----------+-------------+-----------+----+-----------------+--------------------+--------------------+-----------+\n",
            "|         US|   14499497| ROI00QN8IS49I|B00M5CMRNE|     326338622|Baltic Amber Teet...|            Baby|          5|           83|         91|   N|                N|Absolutely GORGEO...|Beautiful Amber!<...| 2015-08-31|\n",
            "|         US|    1243530|R13C5INE1RTZP6|B00G66UDAO|     130471439|Sportspower For B...|            Baby|          2|           26|         26|   N|                Y|        nice but....|Nice but the seat...| 2015-08-31|\n",
            "|         US|   22935487| RXVMMXCL67MZN|B00V0VQK1G|       7432246|Delta Children 4-...|            Baby|          4|          378|        383|   N|                Y|perfect for small...|Got these today, ...| 2015-08-31|\n",
            "|         US|   38665516|R33JJQWAUYBKD3|B005ULUZIQ|     420862361|Love to Dream Swa...|            Baby|          5|          270|        280|   N|                Y|worth every penny...|First off, worth ...| 2015-08-31|\n",
            "|         US|   21155796|R3N0XV9267NOXV|B00ZKTVI66|     155258416|Graco LiteRider C...|            Baby|          5|           41|         47|   Y|                N|No more disturbin...|This version of t...| 2015-08-31|\n",
            "|         US|   19070678|R31HQD6YXSQV1W|B004JU0H7S|      19045019|Dream On Me Mattress|            Baby|          3|           40|         48|   N|                Y|I just don't like...|Fits standard siz...| 2015-08-31|\n",
            "|         US|   51688296|R33LQSF958O6K8|B0052QYLUM|     850036950|Infant Optics DXR...|            Baby|          5|           39|         41|   N|                Y|Nice, reliable vi...|I've owned one of...| 2015-08-30|\n",
            "|         US|   44429441|R3OIDSQJ84W7J1|B0101OFK22|     712088413|Baby Nasal Aspira...|            Baby|          5|           21|         24|   N|                N|Must have baby ca...|My little one is ...| 2015-08-30|\n",
            "|         US|   12732221| RODE8K12S7148|B00ISS2QCQ|     821219016|Diono Rainier Con...|            Baby|          5|           41|         45|   N|                Y|Need to fit 2 acr...|I have baby #3 on...| 2015-08-30|\n",
            "|         US|   27425737|R2QZFYFUKP22SP|B0052QYLUM|     850036950|Infant Optics DXR...|            Baby|          5|           33|         37|   N|                Y|  Bang For Your Buck|This monitor has ...| 2015-08-30|\n",
            "|         US|   38201168| RFON10GAZKDL3|B00T6X3LI0|     154174591|Petunia Pickle Bo...|            Baby|          3|           16|         20|   N|                Y|Nice bag, just do...|nice bag but does...| 2015-08-30|\n",
            "|         US|   43572560|R2UXKAUFMPE0PJ|B00028XJNA|     756441329|Medela Pump and S...|            Baby|          1|           29|         29|   N|                N|  I hate these bags.|These bags make i...| 2015-08-30|\n",
            "|         US|   15976784|R20YYYGIRVB7F1|B00O8RRFZ4|     515574346|Evenflo Maestro B...|            Baby|          1|           32|         41|   N|                N|Wish I had known ...|Wish I had known ...| 2015-08-30|\n",
            "|         US|   31778374|R36065K853ACRA|B00I3K1D00|     613856293|Summer Infant Ext...|            Baby|          3|           28|         34|   N|                Y|             Poor :(|I should have rea...| 2015-08-30|\n",
            "|         US|    1350411| RBS6RYHXL83L8|B00O8RRR2A|      27599661|Evenflo Symphony ...|            Baby|          5|           49|         57|   N|                Y|Best Anchor Conne...|Hands down the be...| 2015-08-30|\n",
            "|         US|   51891452|R2D5JAVXATJOQB|B00YG4DWRO|     330927873|Summer Infant Pee...|            Baby|          4|           45|         48|   N|                Y|\"Almost\" a great ...|Bottom line 4 sta...| 2015-08-30|\n",
            "|         US|   39434327|R1SUS9Y51N3QO8|B006Y3S838|     308351589|Munchkin Click Lo...|            Baby|          1|           42|         46|   N|                N|Very interesting ...|Man Munchkin's re...| 2015-08-30|\n",
            "|         US|    8051838|R3DKDS7674IU4Z|B00BLBLR1I|     186458204|Spectra Baby USA ...|            Baby|          5|           29|         31|   N|                N|       Great pump!!!|I love my spectra...| 2015-08-30|\n",
            "|         US|   18224278|R3VER1GSR74AHB|B00UE7RP20|     479561903|BabyKeeps Adjusta...|            Baby|          4|           38|         39|   N|                Y|Good for cat proo...|[[VIDEOID:540ba57...| 2015-08-30|\n",
            "|         US|    9204908| R4KKILPJRQ2J5|B005CF35O6|     813915180|Baby Einstein Ani...|            Baby|          1|           12|         20|   N|                Y|cheap...w visual aid|It's been a month...| 2015-08-29|\n",
            "+-----------+-----------+--------------+----------+--------------+--------------------+----------------+-----------+-------------+-----------+----+-----------------+--------------------+--------------------+-----------+\n",
            "only showing top 20 rows\n",
            "\n"
          ]
        }
      ]
    },
    {
      "cell_type": "code",
      "source": [
        "#reate a new DataFrame or table that retrieves all the rows where a review was written as part of the Vine program (paid), vine == 'Y'\n",
        "vineYesdf = new_table.filter(new_table[\"vine\"] == \"Y\").show()"
      ],
      "metadata": {
        "colab": {
          "base_uri": "https://localhost:8080/"
        },
        "id": "TDD2eXP84svw",
        "outputId": "119c1070-5c22-4e51-9ef0-d5f304974909"
      },
      "execution_count": 18,
      "outputs": [
        {
          "output_type": "stream",
          "name": "stdout",
          "text": [
            "+-----------+-----------+--------------+----------+--------------+--------------------+----------------+-----------+-------------+-----------+----+-----------------+--------------------+--------------------+-----------+\n",
            "|marketplace|customer_id|     review_id|product_id|product_parent|       product_title|product_category|star_rating|helpful_votes|total_votes|vine|verified_purchase|     review_headline|         review_body|review_date|\n",
            "+-----------+-----------+--------------+----------+--------------+--------------------+----------------+-----------+-------------+-----------+----+-----------------+--------------------+--------------------+-----------+\n",
            "|         US|   21155796|R3N0XV9267NOXV|B00ZKTVI66|     155258416|Graco LiteRider C...|            Baby|          5|           41|         47|   Y|                N|No more disturbin...|This version of t...| 2015-08-31|\n",
            "|         US|   25087234| RSA6JQ346JZHZ|B00SIL7EZ2|     916919021|Skip Hop Moonligh...|            Baby|          5|           55|         64|   Y|                Y|Very helpful for ...|Oh my God, this n...| 2015-08-29|\n",
            "|         US|   16520946|R1FXF4HRMCLG4C|B00Y2863CA|     367225394|Graco Nautilus 65...|            Baby|          5|           69|         84|   Y|                N|A great seat with...|This is my third ...| 2015-08-28|\n",
            "|         US|   44759540| RCTBWC3II42MG|B00ZKTVI66|     155258416|Graco LiteRider C...|            Baby|          4|          113|        117|   Y|                N|Excellent Strolle...|We love this stro...| 2015-08-28|\n",
            "|         US|   29647935| RTMQM2CQ1XIZ0|B00Y286O6U|     431170285|  Graco Glider Elite|            Baby|          5|           21|         25|   Y|                N|gentle gliding mo...|I really like thi...| 2015-08-20|\n",
            "|         US|   48428870|R2CBJLCKQ612KU|B00UT0E4KI|     420347411|Ingenuity Trio 3-...|            Baby|          4|           27|         35|   Y|                N|Good 3-in-1 high ...|This is a nice 3-...| 2015-08-20|\n",
            "|         US|   12292839|R322QDGO4AV2B5|B00Y2863CA|     367225394|Graco Nautilus 65...|            Baby|          5|           55|         65|   Y|                N|From box to SUV i...|Wow!  I was reall...| 2015-08-18|\n",
            "|         US|   14834258| R2S7CXRDGQ6EE|B00PX8PDII|      95589830|Graco Aire3 Click...|            Baby|          4|           36|         39|   Y|                N|Does not work as ...|This is a nice st...| 2015-08-18|\n",
            "|         US|   12257250|R3ECMXK0SGR1VV|B00SIL7EZ2|     916919021|Skip Hop Moonligh...|            Baby|          5|           59|         64|   Y|                N|Excellent night l...|My five year old ...| 2015-08-14|\n",
            "|         US|   52850919|R3D55CPJ6J6Z78|B00Y2863CA|     367225394|Graco Nautilus 65...|            Baby|          4|           15|         20|   Y|                N|Seems comfortable...|My daughter is 23...| 2015-08-12|\n",
            "|         US|   49336498|R1Y9OYIUCP3WD2|B00NFET6TY|     107666419|Fisher-Price Snug...|            Baby|          4|           20|         20|   Y|                N|   Some shortcomings|I got this Snugap...| 2015-08-10|\n",
            "|         US|   16520946| RT8AV0IB2PGHH|B00Y286AHS|     688619226|Graco 4ever All-i...|            Baby|          4|          108|        132|   Y|                N|Very functional s...|This is a very fu...| 2015-08-09|\n",
            "|         US|   47030935|R2RLHJRJD9B0NX|B00WANFZIM|     132509648|Skip Hop Baby Zoo...|            Baby|          3|           44|         47|   Y|                N|I really wanted t...|This is an absolu...| 2015-08-09|\n",
            "|         US|   31461331| RAPD7IX0LPZ10|B00NFETDR4|      72779138|Fisher-Price Calm...|            Baby|          4|           36|         37|   Y|                N|Adorable!!! Just ...|This Fisher Price...| 2015-08-07|\n",
            "|         US|   45725380|R37QPCBNR07PPR|B00821FLT4|     322274430|    Ubbi Diaper Pail|            Baby|          1|           22|         27|   Y|                N|Pretty Much a Tra...|So I admit, I rea...| 2015-07-25|\n",
            "|         US|   13797074|R3BRFPK8N59XPY|B00Y286AHS|     688619226|Graco 4ever All-i...|            Baby|          5|          364|        395|   Y|                N|Comfortable, Safe...|I have four child...| 2015-07-22|\n",
            "|         US|   44737123|R1WE59I775L7L9|B00821FLT4|     322274430|    Ubbi Diaper Pail|            Baby|          4|           31|         33|   Y|                N|The Cadilac of Di...|Ubbi Diaper Pail,...| 2015-07-18|\n",
            "|         US|   52866296| RO8IGQJV1PKCJ|B00PX8PCSO|     693305455|Graco Aire3 Click...|            Baby|          5|           78|         84|   Y|                N|The higher qualit...|You get the strol...| 2015-07-17|\n",
            "|         US|   48428870| RWZDJT9MQP6A4|B00V0ARIBI|     712341274|  Chicco Nextfit Zip|            Baby|          5|           86|         97|   Y|                N|Very well thought...|I watch my grands...| 2015-07-12|\n",
            "|         US|   31302915|R2VDXEVKFSJU36|B00PX8PQBC|     151402377|Graco Relay Click...|            Baby|          5|           20|         22|   Y|                N|Excellent jogger ...|We are Bob stroll...| 2015-07-08|\n",
            "+-----------+-----------+--------------+----------+--------------+--------------------+----------------+-----------+-------------+-----------+----+-----------------+--------------------+--------------------+-----------+\n",
            "only showing top 20 rows\n",
            "\n"
          ]
        }
      ]
    },
    {
      "cell_type": "code",
      "source": [
        "#Create a new DataFrame or table that retrieves all the rows where a review was written as part of the Vine program (paid), vine == 'N'\n",
        "vineNodf = new_table.filter(new_table[\"vine\"] == \"N\").show()"
      ],
      "metadata": {
        "colab": {
          "base_uri": "https://localhost:8080/"
        },
        "id": "jK7B3pbc4vIz",
        "outputId": "75f7d736-5566-4e0b-af17-d05e58ea318c"
      },
      "execution_count": 19,
      "outputs": [
        {
          "output_type": "stream",
          "name": "stdout",
          "text": [
            "+-----------+-----------+--------------+----------+--------------+--------------------+----------------+-----------+-------------+-----------+----+-----------------+--------------------+--------------------+-----------+\n",
            "|marketplace|customer_id|     review_id|product_id|product_parent|       product_title|product_category|star_rating|helpful_votes|total_votes|vine|verified_purchase|     review_headline|         review_body|review_date|\n",
            "+-----------+-----------+--------------+----------+--------------+--------------------+----------------+-----------+-------------+-----------+----+-----------------+--------------------+--------------------+-----------+\n",
            "|         US|   14499497| ROI00QN8IS49I|B00M5CMRNE|     326338622|Baltic Amber Teet...|            Baby|          5|           83|         91|   N|                N|Absolutely GORGEO...|Beautiful Amber!<...| 2015-08-31|\n",
            "|         US|    1243530|R13C5INE1RTZP6|B00G66UDAO|     130471439|Sportspower For B...|            Baby|          2|           26|         26|   N|                Y|        nice but....|Nice but the seat...| 2015-08-31|\n",
            "|         US|   22935487| RXVMMXCL67MZN|B00V0VQK1G|       7432246|Delta Children 4-...|            Baby|          4|          378|        383|   N|                Y|perfect for small...|Got these today, ...| 2015-08-31|\n",
            "|         US|   38665516|R33JJQWAUYBKD3|B005ULUZIQ|     420862361|Love to Dream Swa...|            Baby|          5|          270|        280|   N|                Y|worth every penny...|First off, worth ...| 2015-08-31|\n",
            "|         US|   19070678|R31HQD6YXSQV1W|B004JU0H7S|      19045019|Dream On Me Mattress|            Baby|          3|           40|         48|   N|                Y|I just don't like...|Fits standard siz...| 2015-08-31|\n",
            "|         US|   51688296|R33LQSF958O6K8|B0052QYLUM|     850036950|Infant Optics DXR...|            Baby|          5|           39|         41|   N|                Y|Nice, reliable vi...|I've owned one of...| 2015-08-30|\n",
            "|         US|   44429441|R3OIDSQJ84W7J1|B0101OFK22|     712088413|Baby Nasal Aspira...|            Baby|          5|           21|         24|   N|                N|Must have baby ca...|My little one is ...| 2015-08-30|\n",
            "|         US|   12732221| RODE8K12S7148|B00ISS2QCQ|     821219016|Diono Rainier Con...|            Baby|          5|           41|         45|   N|                Y|Need to fit 2 acr...|I have baby #3 on...| 2015-08-30|\n",
            "|         US|   27425737|R2QZFYFUKP22SP|B0052QYLUM|     850036950|Infant Optics DXR...|            Baby|          5|           33|         37|   N|                Y|  Bang For Your Buck|This monitor has ...| 2015-08-30|\n",
            "|         US|   38201168| RFON10GAZKDL3|B00T6X3LI0|     154174591|Petunia Pickle Bo...|            Baby|          3|           16|         20|   N|                Y|Nice bag, just do...|nice bag but does...| 2015-08-30|\n",
            "|         US|   43572560|R2UXKAUFMPE0PJ|B00028XJNA|     756441329|Medela Pump and S...|            Baby|          1|           29|         29|   N|                N|  I hate these bags.|These bags make i...| 2015-08-30|\n",
            "|         US|   15976784|R20YYYGIRVB7F1|B00O8RRFZ4|     515574346|Evenflo Maestro B...|            Baby|          1|           32|         41|   N|                N|Wish I had known ...|Wish I had known ...| 2015-08-30|\n",
            "|         US|   31778374|R36065K853ACRA|B00I3K1D00|     613856293|Summer Infant Ext...|            Baby|          3|           28|         34|   N|                Y|             Poor :(|I should have rea...| 2015-08-30|\n",
            "|         US|    1350411| RBS6RYHXL83L8|B00O8RRR2A|      27599661|Evenflo Symphony ...|            Baby|          5|           49|         57|   N|                Y|Best Anchor Conne...|Hands down the be...| 2015-08-30|\n",
            "|         US|   51891452|R2D5JAVXATJOQB|B00YG4DWRO|     330927873|Summer Infant Pee...|            Baby|          4|           45|         48|   N|                Y|\"Almost\" a great ...|Bottom line 4 sta...| 2015-08-30|\n",
            "|         US|   39434327|R1SUS9Y51N3QO8|B006Y3S838|     308351589|Munchkin Click Lo...|            Baby|          1|           42|         46|   N|                N|Very interesting ...|Man Munchkin's re...| 2015-08-30|\n",
            "|         US|    8051838|R3DKDS7674IU4Z|B00BLBLR1I|     186458204|Spectra Baby USA ...|            Baby|          5|           29|         31|   N|                N|       Great pump!!!|I love my spectra...| 2015-08-30|\n",
            "|         US|   18224278|R3VER1GSR74AHB|B00UE7RP20|     479561903|BabyKeeps Adjusta...|            Baby|          4|           38|         39|   N|                Y|Good for cat proo...|[[VIDEOID:540ba57...| 2015-08-30|\n",
            "|         US|    9204908| R4KKILPJRQ2J5|B005CF35O6|     813915180|Baby Einstein Ani...|            Baby|          1|           12|         20|   N|                Y|cheap...w visual aid|It's been a month...| 2015-08-29|\n",
            "|         US|   26735716| RE1XO71W5US5S|B00VAXZ8T4|     482188959|ezpz Happy Bowl -...|            Baby|          1|           28|         30|   N|                Y|Nice to look at b...|My baby of 7 mont...| 2015-08-29|\n",
            "+-----------+-----------+--------------+----------+--------------+--------------------+----------------+-----------+-------------+-----------+----+-----------------+--------------------+--------------------+-----------+\n",
            "only showing top 20 rows\n",
            "\n"
          ]
        }
      ]
    },
    {
      "cell_type": "code",
      "source": [
        "# number of five star reviews\n",
        "five_star = new_table.filter(new_table[\"star_rating\"]== 5)\n",
        "five_star.cache()\n",
        "# df[marketplace: string, customer_id: int, review_id: string, product_id: string, product_parent: int, product_title: string, product_category: string, star_rating: int, helpful_votes: int, total_votes: int, vine: string, verified_purchase: string, review_headline: string, review_body: string, review_date: string]\n",
        "five_star.count()"
      ],
      "metadata": {
        "colab": {
          "base_uri": "https://localhost:8080/"
        },
        "id": "vvWimci55Vz5",
        "outputId": "8588c9c6-d2ce-44ac-f281-f744318250b3"
      },
      "execution_count": 22,
      "outputs": [
        {
          "output_type": "execute_result",
          "data": {
            "text/plain": [
              "12235"
            ]
          },
          "metadata": {},
          "execution_count": 22
        }
      ]
    },
    {
      "cell_type": "code",
      "source": [
        "#total reviews\n",
        "new_table.count()\n"
      ],
      "metadata": {
        "colab": {
          "base_uri": "https://localhost:8080/"
        },
        "id": "gra1VPOlEJ3L",
        "outputId": "74114e31-392d-43a4-df8c-e2a4040bf0a6"
      },
      "execution_count": 24,
      "outputs": [
        {
          "output_type": "execute_result",
          "data": {
            "text/plain": [
              "25557"
            ]
          },
          "metadata": {},
          "execution_count": 24
        }
      ]
    },
    {
      "cell_type": "code",
      "source": [
        "#percentage of five star reviews\n",
        "five_star.count() / new_table.count()"
      ],
      "metadata": {
        "colab": {
          "base_uri": "https://localhost:8080/"
        },
        "id": "6jmds6RwEhXH",
        "outputId": "959f9506-ac03-4ad0-c4c0-0fedaabc7dbd"
      },
      "execution_count": 25,
      "outputs": [
        {
          "output_type": "execute_result",
          "data": {
            "text/plain": [
              "0.4787338106976562"
            ]
          },
          "metadata": {},
          "execution_count": 25
        }
      ]
    },
    {
      "cell_type": "code",
      "source": [
        "#percentage of paid reviews\n",
        "five_star.filter(five_star[\"verified_purchase\"] == \"Y\").count()/new_table.filter(new_table[\"verified_purchase\"]== \"Y\").count()"
      ],
      "metadata": {
        "colab": {
          "base_uri": "https://localhost:8080/"
        },
        "id": "0i0H-KfS5GP4",
        "outputId": "b390c0b5-3dab-4777-83af-d6807a269b60"
      },
      "execution_count": 26,
      "outputs": [
        {
          "output_type": "execute_result",
          "data": {
            "text/plain": [
              "0.48951543234116074"
            ]
          },
          "metadata": {},
          "execution_count": 26
        }
      ]
    },
    {
      "cell_type": "code",
      "source": [
        "#percentage of unpaid reviews\n",
        "five_star.filter(five_star[\"verified_purchase\"] == \"N\").count()/new_table.filter(new_table[\"verified_purchase\"]== \"N\").count()"
      ],
      "metadata": {
        "colab": {
          "base_uri": "https://localhost:8080/"
        },
        "id": "pps-LzW3EsBK",
        "outputId": "77a5e823-516d-494c-d42d-45552ac9930a"
      },
      "execution_count": 27,
      "outputs": [
        {
          "output_type": "execute_result",
          "data": {
            "text/plain": [
              "0.46802869619463505"
            ]
          },
          "metadata": {},
          "execution_count": 27
        }
      ]
    }
  ]
}